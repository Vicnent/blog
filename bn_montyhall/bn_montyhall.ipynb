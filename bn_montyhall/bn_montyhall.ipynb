{
 "cells": [
  {
   "cell_type": "markdown",
   "metadata": {},
   "source": [
    "# Building a Bayesian Network\n",
    "**David S. Fulford**  \n",
    "*January, 2019*\n",
    "\n",
    "Bayesian networks are useful tools for prediction/imputing values of missing or hidden/latent variables. These problems arise frequently in data analysis where samples may be missing certain variables, or certain variables are measured from sensors that display an inordinate amount of noise.\n",
    "\n",
    "The [Monty Hall Problem](https://en.wikipedia.org/wiki/Monty_Hall_problem) is a simple problem in which we desire to choose one of three doors that contains a prize. The only information we have is that the door containing the prize is completely random&mdash;that is, it is equally likely to be behind either of the three doors&mdash; and Monty will choose a door that is not the door the guest has chosen, or the door with the prize behind.\n",
    "\n",
    "From this information, we must then choose which door to open. The game is framed to the player as \"would you like to switch doors?\" to take advantage of the [endowment effect](https://en.wikipedia.org/wiki/Endowment_effect). As we'll see, it is ***always*** better to switch, while the game frames the player to desire to never switch. It's important to understand the prior probabilties, and how the information gain changes those probabilities, to act against our desire to stick with our original choice."
   ]
  },
  {
   "cell_type": "code",
   "execution_count": 1,
   "metadata": {},
   "outputs": [],
   "source": [
    "import numpy as np\n",
    "import pomegranate as pg\n",
    "\n",
    "import daft\n",
    "import matplotlib as mpl\n",
    "from matplotlib import pyplot as plt"
   ]
  },
  {
   "cell_type": "markdown",
   "metadata": {},
   "source": [
    "#### Import the libraries we'll be using.\n",
    "\n",
    "* [Numpy](http://www.numpy.org/) is one of the fundamental packages for Python that provides access to powerful functions for working with arrays.\n",
    "* [Pomegranate](https://pomegranate.readthedocs.io/en/latest/index.html) is the only library we need to run the Bayesian Network.\n",
    "* [Daft](http://daft-pgm.org/) is a library used to render graphical models that does not require installation of any additional software. Although Pomegranata can render its networks using GraphViz, GraphViz and PyGraphViz must exist on the system, and the installation on Windows is not well supported.\n",
    "* [Matplotlib](https://matplotlib.org/) is our standard plotting package, and is used by Daft in this example."
   ]
  },
  {
   "cell_type": "markdown",
   "metadata": {},
   "source": [
    "We'll display the network first."
   ]
  },
  {
   "cell_type": "code",
   "execution_count": 2,
   "metadata": {},
   "outputs": [
    {
     "data": {
      "image/png": "[encoded data removed]",
      "text/plain": [
       "<Figure size 209.764x209.764 with 1 Axes>"
      ]
     },
     "metadata": {},
     "output_type": "display_data"
    }
   ],
   "source": [
    "import daft\n",
    "import matplotlib as mpl\n",
    "from matplotlib import pyplot as plt\n",
    "mpl.rcParams['font.family'] = 'serif'\n",
    "mpl.rcParams['font.size'] = 28\n",
    "mpl.rcParams['text.usetex'] = True\n",
    "\n",
    "scale = 3\n",
    "# Instantiate the PGM.\n",
    "pgm = daft.PGM()\n",
    "\n",
    "# Hierarchical parameters.\n",
    "pgm.add_node('s1', 'guest', 1, 0, scale)\n",
    "pgm.add_node('s2', 'prize', 3, 0, scale)\n",
    "pgm.add_node('s3', 'monty', 2, -2, scale)\n",
    "\n",
    "# Add in the edges.\n",
    "arrow={'head_width':.4, 'head_length':.5}\n",
    "pgm.add_edge('s1', 's3', plot_params=arrow)\n",
    "pgm.add_edge('s2', 's3', plot_params=arrow)\n",
    "\n",
    "# Render.\n",
    "pgm.show()"
   ]
  },
  {
   "cell_type": "markdown",
   "metadata": {},
   "source": [
    "The door the guest chooses, and the door hiding the prize, are not dependent on any other variable. We'll assume a uniform distribution for each (1/3 chance of each of the three doors).\n",
    "\n",
    "The choice by Monty is a dependent upon both the guest's choice and the prize door, so we construct a conditional probability table.\n",
    "\n",
    "The visualization of the graph tells us how information flows in the network. For example, until we know what door Monty has chosen, we do not have any information to relate `guest` to `prize`. We say that these variables are ***conditionally indepedent***. Both are represented by uniform distributions.\n",
    "\n",
    "Once we have observed `monty`, *then* the path between `guest` and `prize` is active through `monty` &mdash; `guest` and `prize` are no longer independent. Then, given that we only know `guest` and `monty` we could make a posterior prediction for `prize`. The network influence would flow like this:"
   ]
  },
  {
   "cell_type": "code",
   "execution_count": 3,
   "metadata": {},
   "outputs": [
    {
     "data": {
      "image/png": "[encoded data removed]",
      "text/plain": [
       "<Figure size 209.764x209.764 with 1 Axes>"
      ]
     },
     "metadata": {},
     "output_type": "display_data"
    }
   ],
   "source": [
    "pgm = daft.PGM(observed_style='inner')\n",
    "pgm.add_node('s1', 'guest', 1, 0, scale, observed=True); pgm.add_node('s2', 'prize', 3, 0, scale); \\\n",
    "    pgm.add_node('s3', 'monty', 2, -2, scale, observed=True)\n",
    "pgm.add_edge('s1', 's3', plot_params=arrow); pgm.add_edge('s3', 's2', plot_params=arrow)\n",
    "pgm.show()"
   ]
  },
  {
   "cell_type": "markdown",
   "metadata": {},
   "source": [
    "First, we build the network.\n",
    " - `guest` has a conditionally indepedent uniform distribution\n",
    " - `prize` has a conditionally indepedent uniform distribution\n",
    " - `monty` has a conditional distribution defined by the rules of the game (Monty will open a door that is not chosen by the guest and does not have the prize behind it)\n",
    " \n",
    " We define distributions for the conditionally independent variables:"
   ]
  },
  {
   "cell_type": "code",
   "execution_count": 4,
   "metadata": {},
   "outputs": [],
   "source": [
    "# Define Distributions\n",
    "guest = pg.DiscreteDistribution({'A': 1./3, 'B': 1./3, 'C': 1./3})\n",
    "prize = pg.DiscreteDistribution({'A': 1./3, 'B': 1./3, 'C': 1./3})"
   ]
  },
  {
   "cell_type": "markdown",
   "metadata": {},
   "source": [
    "Now, we build the conditional probability table based upon the rules of the game:"
   ]
  },
  {
   "cell_type": "code",
   "execution_count": 5,
   "metadata": {},
   "outputs": [
    {
     "data": {
      "text/plain": [
       "[['A', 'A', 'A', 0.0],\n",
       " ['A', 'A', 'B', 0.5],\n",
       " ['A', 'A', 'C', 0.5],\n",
       " ['A', 'B', 'A', 0.0],\n",
       " ['A', 'B', 'B', 0.0],\n",
       " ['A', 'B', 'C', 1.0],\n",
       " ['A', 'C', 'A', 0.0],\n",
       " ['A', 'C', 'B', 1.0],\n",
       " ['A', 'C', 'C', 0.0],\n",
       " ['B', 'A', 'A', 0.0],\n",
       " ['B', 'A', 'B', 0.0],\n",
       " ['B', 'A', 'C', 1.0],\n",
       " ['B', 'B', 'A', 0.5],\n",
       " ['B', 'B', 'B', 0.0],\n",
       " ['B', 'B', 'C', 0.5],\n",
       " ['B', 'C', 'A', 1.0],\n",
       " ['B', 'C', 'B', 0.0],\n",
       " ['B', 'C', 'C', 0.0],\n",
       " ['C', 'A', 'A', 0.0],\n",
       " ['C', 'A', 'B', 1.0],\n",
       " ['C', 'A', 'C', 0.0],\n",
       " ['C', 'B', 'A', 1.0],\n",
       " ['C', 'B', 'B', 0.0],\n",
       " ['C', 'B', 'C', 0.0],\n",
       " ['C', 'C', 'A', 0.5],\n",
       " ['C', 'C', 'B', 0.5],\n",
       " ['C', 'C', 'C', 0.0]]"
      ]
     },
     "execution_count": 5,
     "metadata": {},
     "output_type": "execute_result"
    }
   ],
   "source": [
    "doors = ['A', 'B', 'C']\n",
    "m_count = []\n",
    "for g in doors:\n",
    "    for p in doors:\n",
    "        t_count = 0\n",
    "        # Loop through and count total possible outcomes for P(monty | guest, prize)\n",
    "        for m in doors:\n",
    "            if m != g and m != p:\n",
    "                # Monty can pick a door not picked by guest and not hiding a prize\n",
    "                t_count += 1\n",
    "        # Loop through and calculate conditional probability P(monty | guest, prize)\n",
    "        for m in doors:\n",
    "            if m != g and m != p:\n",
    "                # Monty can pick a door not picked by guest and not hiding a prize\n",
    "                m_count.append([g, p, m, 1. / t_count])\n",
    "            else:\n",
    "                m_count.append([g, p, m, 0.])\n",
    "\n",
    "monty = pg.ConditionalProbabilityTable(\n",
    "        m_count, [guest, prize])\n",
    "\n",
    "m_count"
   ]
  },
  {
   "cell_type": "code",
   "execution_count": 6,
   "metadata": {},
   "outputs": [],
   "source": [
    "# Initialize model\n",
    "model = pg.BayesianNetwork('Monty Hall Problem')\n",
    "\n",
    "# Define nodes\n",
    "s1 = pg.Node(guest, name='guest')\n",
    "s2 = pg.Node(prize, name='prize')\n",
    "s3 = pg.Node(monty, name='monty')\n",
    "\n",
    "# Add edges\n",
    "model.add_states(s1, s2, s3)\n",
    "model.add_edge(s1, s3)\n",
    "model.add_edge(s2, s3)\n",
    "\n",
    "# Build model\n",
    "model.bake()"
   ]
  },
  {
   "cell_type": "markdown",
   "metadata": {},
   "source": [
    "#### Marginal Probabilties\n",
    "We can evaluate the marginal probability of Monty's choice given the guest and prize variables First, let's verify we have a proper prior marginal for Monty's choice computed from our conditional probability table:"
   ]
  },
  {
   "cell_type": "code",
   "execution_count": 7,
   "metadata": {},
   "outputs": [
    {
     "data": {
      "text/plain": [
       "[{'B': 0.3333333333333333, 'C': 0.3333333333333333, 'A': 0.3333333333333333}]"
      ]
     },
     "execution_count": 7,
     "metadata": {},
     "output_type": "execute_result"
    }
   ],
   "source": [
    "model.marginal()[2].parameters"
   ]
  },
  {
   "cell_type": "markdown",
   "metadata": {},
   "source": [
    "Which is correct!\n",
    "\n",
    "Now, show the marginal probability of specific outcomes:"
   ]
  },
  {
   "cell_type": "code",
   "execution_count": 8,
   "metadata": {},
   "outputs": [
    {
     "name": "stdout",
     "output_type": "stream",
     "text": [
      "Trying as array:\n"
     ]
    },
    {
     "data": {
      "text/plain": [
       "0.05555555555555554"
      ]
     },
     "metadata": {},
     "output_type": "display_data"
    },
    {
     "name": "stdout",
     "output_type": "stream",
     "text": [
      "\t Success!!!\n",
      "\t Passed as array\n",
      "\n",
      "\n",
      "Trying as matrix:\n",
      "[0.05555556 0.05555556 0.05555556 0.05555556]\n"
     ]
    }
   ],
   "source": [
    "# Either a single array, or a matrix\n",
    "print('Trying as array:')\n",
    "try:\n",
    "    display(model.probability(['A', 'A', 'B']))\n",
    "    print('\\t Success!!!' '\\n' '\\t Passed as array')\n",
    "except:\n",
    "    print('\\t Error!!!' '\\n' '\\t Must always pass a matrix')\n",
    "\n",
    "print('\\n\\n' 'Trying as matrix:')\n",
    "print(model.probability([['A', 'A', 'B'],\n",
    "                         ['A', 'A', 'B'],\n",
    "                         ['A', 'A', 'C'],\n",
    "                         ['C', 'C', 'B']])\n",
    "     )"
   ]
  },
  {
   "cell_type": "markdown",
   "metadata": {},
   "source": [
    "#### Prediction\n",
    "We're more interested in the prediction given a missing variable, however. Here we can make a prediction for the door Monty will pick given a door chosen by the guest, and the door hiding the prize."
   ]
  },
  {
   "cell_type": "code",
   "execution_count": 9,
   "metadata": {},
   "outputs": [
    {
     "name": "stdout",
     "output_type": "stream",
     "text": [
      "Trying as array:\n",
      "\t Error!!!\n",
      "\t Must always pass a matrix\n",
      "\n",
      "\n",
      "Tring as matrix:\n"
     ]
    },
    {
     "data": {
      "text/plain": [
       "[array(['A', 'B', 'C'], dtype=object),\n",
       " array(['A', 'C', 'B'], dtype=object),\n",
       " array(['B', 'A', 'C'], dtype=object),\n",
       " array(['B', 'C', 'A'], dtype=object),\n",
       " array(['C', 'A', 'B'], dtype=object),\n",
       " array(['C', 'B', 'A'], dtype=object)]"
      ]
     },
     "metadata": {},
     "output_type": "display_data"
    }
   ],
   "source": [
    "# Must always be a matrix\n",
    "print('Trying as array:')\n",
    "try:\n",
    "    display(model.predict(['A', 'B', None]))\n",
    "    print('\\t Success!!!' '\\n' '\\t Passed as array')\n",
    "except:\n",
    "    print('\\t Error!!!' '\\n' '\\t Must always pass a matrix')\n",
    "\n",
    "print('\\n\\n' 'Tring as matrix:')\n",
    "display(model.predict([['A', 'B', None],\n",
    "                       ['A', 'C', None],\n",
    "                       ['B', 'A', None],\n",
    "                       ['B', 'C', None],\n",
    "                       ['C', 'A', None],\n",
    "                       ['C', 'B', None]])\n",
    "     )"
   ]
  },
  {
   "cell_type": "markdown",
   "metadata": {},
   "source": [
    "#### Should we switch doors?\n",
    "\n",
    "In the case of the Monty Hall problem, we want to predict the door containing the prize *given* our first choice, and Monty's choice, as we do not know which door is hiding the prize. This is the Bayesian problem, where we desired to ***invert*** our graph:"
   ]
  },
  {
   "cell_type": "code",
   "execution_count": 10,
   "metadata": {},
   "outputs": [
    {
     "data": {
      "text/plain": [
       "[array(['A', 'C', 'B'], dtype=object),\n",
       " array(['A', 'B', 'C'], dtype=object),\n",
       " array(['B', 'C', 'A'], dtype=object),\n",
       " array(['B', 'A', 'C'], dtype=object),\n",
       " array(['C', 'B', 'A'], dtype=object),\n",
       " array(['C', 'A', 'B'], dtype=object)]"
      ]
     },
     "metadata": {},
     "output_type": "display_data"
    }
   ],
   "source": [
    "# Must always be a matrix\n",
    "display(model.predict([['A', None, 'B'],\n",
    "                       ['A', None, 'C'],\n",
    "                       ['B', None, 'A'],\n",
    "                       ['B', None, 'C'],\n",
    "                       ['C', None, 'A'],\n",
    "                       ['C', None, 'B']])\n",
    "     )"
   ]
  },
  {
   "cell_type": "markdown",
   "metadata": {},
   "source": [
    "The interpretation of the predictions is that it is *always* better to switch the door once Monty makes his choice! We can also look at the probabilities of each value as opposed to just the prediction. This is known as ***marginalization***, in which we \"marginalize out\" the observed variables. Mathematically, we sum (or integrate) the outcomes from our conditional probability table for the unobserved variables *over* the subset of outcomes which match the observed variables."
   ]
  },
  {
   "cell_type": "code",
   "execution_count": 11,
   "metadata": {},
   "outputs": [
    {
     "name": "stdout",
     "output_type": "stream",
     "text": [
      "Show Probabilities for each door:\n"
     ]
    },
    {
     "data": {
      "text/plain": [
       "[{'A': 0.3333333333333334, 'B': 0.0, 'C': 0.6666666666666664}]"
      ]
     },
     "metadata": {},
     "output_type": "display_data"
    },
    {
     "name": "stdout",
     "output_type": "stream",
     "text": [
      "\n",
      " Where the maximum likelihood matches the prediction:\n"
     ]
    },
    {
     "data": {
      "text/plain": [
       "'C'"
      ]
     },
     "metadata": {},
     "output_type": "display_data"
    }
   ],
   "source": [
    "print('Show Probabilities for each door:')\n",
    "display(model.predict_proba({'guest':'A', 'monty':'B'})[1].parameters)\n",
    "\n",
    "print('\\n Where the maximum likelihood matches the prediction:')\n",
    "display(model.predict([['A', None, 'B']])[0][1])"
   ]
  },
  {
   "cell_type": "markdown",
   "metadata": {},
   "source": [
    "### Example Game\n",
    "\n",
    "Let's show an example of the game. The Guest chooses door 1, while door 2 has the prize. We know that:\n",
    "- There is a 33.3% chance the prize is behind the door chosen.\n",
    "- There is a 66.6% chance the prize is behind a door not chosen."
   ]
  },
  {
   "cell_type": "code",
   "execution_count": 12,
   "metadata": {
    "scrolled": false
   },
   "outputs": [
    {
     "data": {
      "image/png": "[encoded data removed]",
      "text/plain": [
       "<Figure size 351.496x136.063 with 1 Axes>"
      ]
     },
     "metadata": {},
     "output_type": "display_data"
    }
   ],
   "source": [
    "pgm = daft.PGM()\n",
    "pgm.add_node('d1', 'door 1', 1, 1, scale); pgm.add_node('d2', 'door 2', 3, 1, scale); pgm.add_node('d3', 'door 3', 5, 1, scale)\n",
    "pgm.add_plate([0, 0, 1.9, 2], label='Guest', shift=-0.2, label_offset=[22.5, 5], rect_params={'lw':2, 'ec':'b'})\n",
    "pgm.add_plate([2.1, 0, 3.9, 2], label='Monty', shift=-0.2, label_offset=[22.5*2+25, 5], rect_params={'lw':2, 'ec':'g'})\n",
    "pgm.add_plate([2.1, 0, 3.9, 2], label=r'\\it prize', shift=-0.2, label_offset=[32.5, 40], fontsize=18, rect_params={'ec':None})\n",
    "pgm.add_plate([0, 0, 1.9, 2], label='33.3\\%', shift=-0.2, label_offset=[40, 95], fontsize=14, rect_params={'ec':None})\n",
    "pgm.add_plate([0, 0, 1.9, 2], label='33.3\\%', shift=-0.2, label_offset=[70, 112], fontsize=14, rect_params={'ec':None})\n",
    "pgm.add_plate([2.1, 0, 3.9, 2], label='33.3\\%', shift=-0.2, label_offset=[35, 95], fontsize=14, rect_params={'ec':None})\n",
    "pgm.add_plate([2.1, 0, 3.9, 2], label='33.3\\%', shift=-0.2, label_offset=[150, 95], fontsize=14, rect_params={'ec':None})\n",
    "pgm.add_plate([2.1, 0, 3.9, 2], label='66.6\\%', shift=-0.2, label_offset=[180, 112], fontsize=14, rect_params={'ec':None})\n",
    "pgm.show()"
   ]
  },
  {
   "cell_type": "markdown",
   "metadata": {},
   "source": [
    "Based upon the rules of the game, Monty **must** choose door 3 and reveal no prize behind it. \n",
    "\n",
    "- There is still a 33.3% chance the prize is behind the door chosen.\n",
    "- There is still a 66.6% chance the prize is behind a door not chosen.\n",
    "\n",
    "However, because Monty's choice is not random&mdash; he cannot choose the door with a prize behind it&mdash; we can exploit our knowledge and conclude that door 2 must inherit the probability from door 3."
   ]
  },
  {
   "cell_type": "code",
   "execution_count": 13,
   "metadata": {
    "scrolled": false
   },
   "outputs": [
    {
     "data": {
      "image/png": "[encoded data removed]",
      "text/plain": [
       "<Figure size 351.496x136.063 with 1 Axes>"
      ]
     },
     "metadata": {},
     "output_type": "display_data"
    }
   ],
   "source": [
    "pgm = daft.PGM()\n",
    "pgm.add_node('d1', 'door 1', 1, 1, scale); pgm.add_node('d2', r'door 2', 3, 1, scale); pgm.add_node('d3', 'door 3', 5, 1, scale, plot_params={'fc':'grey'})\n",
    "pgm.add_plate([0, 0, 1.9, 2], label='Guest', shift=-0.2, label_offset=[22.5, 5], rect_params={'lw':2, 'ec':'b'})\n",
    "pgm.add_plate([2.1, 0, 3.9, 2], label='Monty', shift=-0.2, label_offset=[22.5*2+25, 5], rect_params={'lw':2, 'ec':'g'})\n",
    "pgm.add_plate([2.1, 0, 3.9, 2], label=r'\\it prize', shift=-0.2, label_offset=[32.5, 40], fontsize=18, rect_params={'ec':None})\n",
    "pgm.add_plate([0, 0, 1.9, 2], label='33.3\\%', shift=-0.2, label_offset=[40, 95], fontsize=14, rect_params={'ec':None})\n",
    "pgm.add_plate([0, 0, 1.9, 2], label='33.3\\%', shift=-0.2, label_offset=[70, 112], fontsize=14, rect_params={'ec':None})\n",
    "pgm.add_plate([2.1, 0, 3.9, 2], label='66.6\\%', shift=-0.2, label_offset=[35, 95], fontsize=14, rect_params={'ec':None})\n",
    "pgm.add_plate([2.1, 0, 3.9, 2], label='0\\%', shift=-0.2, label_offset=[150, 95], fontsize=14, rect_params={'ec':None})\n",
    "pgm.add_plate([2.1, 0, 3.9, 2], label='66.6\\%', shift=-0.2, label_offset=[180, 112], fontsize=14, rect_params={'ec':None})\n",
    "pgm.show()"
   ]
  },
  {
   "cell_type": "markdown",
   "metadata": {},
   "source": [
    "And to use our Bayesian Network: "
   ]
  },
  {
   "cell_type": "code",
   "execution_count": 14,
   "metadata": {},
   "outputs": [
    {
     "data": {
      "text/plain": [
       "[{'A': 0.3333333333333334, 'B': 0.6666666666666664, 'C': 0.0}]"
      ]
     },
     "metadata": {},
     "output_type": "display_data"
    }
   ],
   "source": [
    "display(model.predict_proba({'guest': 'A', 'monty':'C'})[1].parameters)"
   ]
  },
  {
   "cell_type": "markdown",
   "metadata": {},
   "source": [
    "We can easily compute the posterior probability, and use the maximum likelihood to make a prediction.\n",
    "\n",
    "Bayesian Networks allow us to encode known rules, logic, and relations into a system, and provides us with a prediction that incorporates all available information!"
   ]
  }
 ],
 "metadata": {
  "kernelspec": {
   "display_name": "Python 3",
   "language": "python",
   "name": "python3"
  },
  "language_info": {
   "codemirror_mode": {
    "name": "ipython",
    "version": 3
   },
   "file_extension": ".py",
   "mimetype": "text/x-python",
   "name": "python",
   "nbconvert_exporter": "python",
   "pygments_lexer": "ipython3",
   "version": "3.6.5"
  }
 },
 "nbformat": 4,
 "nbformat_minor": 2
}
