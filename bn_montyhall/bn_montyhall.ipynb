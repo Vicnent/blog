{
 "cells": [
  {
   "cell_type": "markdown",
   "metadata": {},
   "source": [
    "# Bayesian Networks are Decision Making Tools\n",
    "**David S. Fulford**  \n",
    "*February, 2020*\n",
    "\n",
    "Bayesian networks are useful tools for prediction/imputing values of missing or hidden/latent variables. These problems arise frequently in data analysis where samples may be missing certain variables, or certain variables are measured from sensors that display an inordinate amount of noise.\n",
    "\n",
    "The [Monty Hall Problem](https://en.wikipedia.org/wiki/Monty_Hall_problem) is a simple problem in which we desire to choose one of three doors that contains a prize. The only information we have is that the door containing the prize is completely random&mdash;that is, it is equally likely to be behind either of the three doors&mdash; and Monty will choose a door that is not the door the guest has chosen, or the door with the prize behind.\n",
    "\n",
    "From this information, we must then choose which door to open. The game is framed to the player as \"would you like to switch doors?\" to take advantage of the [endowment effect](https://en.wikipedia.org/wiki/Endowment_effect). As we'll see, it is ***always*** better to switch, while the game frames the player to desire to never switch. It's important to understand the prior probabilties, and how the information gain changes those probabilities, to act against our desire to stick with our original choice."
   ]
  },
  {
   "cell_type": "code",
   "execution_count": 1,
   "metadata": {
    "ExecuteTime": {
     "end_time": "2020-02-23T17:11:40.501025Z",
     "start_time": "2020-02-23T17:11:39.453889Z"
    }
   },
   "outputs": [],
   "source": [
    "import numpy as np\n",
    "import pomegranate as pg\n",
    "\n",
    "import daft\n",
    "import pandas as pd\n",
    "import matplotlib as mpl\n",
    "from matplotlib import pyplot as plt"
   ]
  },
  {
   "cell_type": "markdown",
   "metadata": {},
   "source": [
    "#### Import the libraries we'll be using.\n",
    "\n",
    "* [Numpy](https://numpy.org/) is one of the fundamental packages for Python that provides access to powerful functions for working with arrays.\n",
    "* [Pandas](https://pandas.io/) is a library for constructing column-heterogenous typed arrays, or data frames. This is only used for a convenient HTML representation of some data items.\n",
    "* [Pomegranate](https://pomegranate.readthedocs.io/en/latest/index.html) is the only library we need to run the Bayesian Network.\n",
    "* [Daft](https://docs.daft-pgm.org/en/latest/) is a library used to render graphical models that does not require installation of any additional software. Although Pomegranata can render its networks using GraphViz, GraphViz and PyGraphViz must exist on the system, and the installation on Windows is not well supported. Full disclosure, I became a primary maintainer of this package because I find it so useful. [View the PGM used in my Master's thesis here!](https://docs.daft-pgm.org/en/latest/examples/deconvolution/)\n",
    "* [Matplotlib](https://matplotlib.org/) is our standard plotting package, and is used by Daft in this example."
   ]
  },
  {
   "cell_type": "markdown",
   "metadata": {},
   "source": [
    "We'll display the network first."
   ]
  },
  {
   "cell_type": "code",
   "execution_count": 2,
   "metadata": {
    "ExecuteTime": {
     "end_time": "2020-02-23T17:11:41.048334Z",
     "start_time": "2020-02-23T17:11:40.502023Z"
    }
   },
   "outputs": [
    {
     "data": {
      "image/png": "[encoded data removed]",
      "text/plain": [
       "<Figure size 209.764x209.764 with 1 Axes>"
      ]
     },
     "metadata": {},
     "output_type": "display_data"
    }
   ],
   "source": [
    "import daft\n",
    "import matplotlib as mpl\n",
    "from matplotlib import pyplot as plt\n",
    "mpl.rcParams['font.family'] = 'serif'\n",
    "mpl.rcParams['font.size'] = 28\n",
    "mpl.rcParams['text.usetex'] = True\n",
    "\n",
    "scale = 3\n",
    "# Instantiate the PGM.\n",
    "pgm = daft.PGM()\n",
    "\n",
    "# Hierarchical parameters.\n",
    "pgm.add_node('s1', 'guest', 1, 0, scale)\n",
    "pgm.add_node('s2', 'prize', 3, 0, scale)\n",
    "pgm.add_node('s3', 'monty', 2, -2, scale)\n",
    "\n",
    "# Add in the edges.\n",
    "arrow={'head_width':.4, 'head_length':.5}\n",
    "pgm.add_edge('s1', 's3', plot_params=arrow)\n",
    "pgm.add_edge('s2', 's3', plot_params=arrow)\n",
    "\n",
    "# Render.\n",
    "pgm.show()"
   ]
  },
  {
   "cell_type": "markdown",
   "metadata": {},
   "source": [
    "The door the guest chooses, and the door hiding the prize, are not dependent on any other variable. We'll assume a uniform distribution for each (1/3 chance of each of the three doors).\n",
    "\n",
    "The choice by Monty is a dependent upon both the guest's choice and the prize door, so we construct a conditional probability table.\n",
    "\n",
    "The visualization of the graph tells us how information flows in the network. For example, until we know what door Monty has chosen, we do not have any information to relate `guest` to `prize`. We say that these variables are ***conditionally indepedent***. Both are represented by uniform distributions.\n",
    "\n",
    "Once we have observed `monty`, *then* the path between `guest` and `prize` is active through `monty` &mdash; `guest` and `prize` are no longer independent. Then, given that we only know `guest` and `monty` we could make a posterior prediction for `prize`. The network influence would flow like this:"
   ]
  },
  {
   "cell_type": "code",
   "execution_count": 3,
   "metadata": {
    "ExecuteTime": {
     "end_time": "2020-02-23T17:11:41.099198Z",
     "start_time": "2020-02-23T17:11:41.049332Z"
    }
   },
   "outputs": [
    {
     "data": {
      "image/png": "[encoded data removed]",
      "text/plain": [
       "<Figure size 209.764x209.764 with 1 Axes>"
      ]
     },
     "metadata": {},
     "output_type": "display_data"
    }
   ],
   "source": [
    "pgm = daft.PGM(observed_style='inner')\n",
    "pgm.add_node('s1', 'guest', 1, 0, scale, observed=True); pgm.add_node('s2', 'prize', 3, 0, scale); \\\n",
    "    pgm.add_node('s3', 'monty', 2, -2, scale, observed=True)\n",
    "pgm.add_edge('s1', 's3', plot_params=arrow); pgm.add_edge('s3', 's2', plot_params=arrow)\n",
    "pgm.show()"
   ]
  },
  {
   "cell_type": "markdown",
   "metadata": {},
   "source": [
    "First, we build the network.\n",
    " - `guest` has a conditionally indepedent uniform distribution\n",
    " - `prize` has a conditionally indepedent uniform distribution\n",
    " - `monty` has a conditional distribution defined by the rules of the game (Monty will open a door that is not chosen by the guest and does not have the prize behind it)\n",
    " \n",
    " We define distributions for the conditionally independent variables:"
   ]
  },
  {
   "cell_type": "code",
   "execution_count": 4,
   "metadata": {
    "ExecuteTime": {
     "end_time": "2020-02-23T17:11:41.104185Z",
     "start_time": "2020-02-23T17:11:41.100196Z"
    }
   },
   "outputs": [],
   "source": [
    "# Define Distributions\n",
    "guest = pg.DiscreteDistribution({'A': 1./3, 'B': 1./3, 'C': 1./3})\n",
    "prize = pg.DiscreteDistribution({'A': 1./3, 'B': 1./3, 'C': 1./3})"
   ]
  },
  {
   "cell_type": "markdown",
   "metadata": {},
   "source": [
    "Now, we build the conditional probability table based upon the rules of the game:"
   ]
  },
  {
   "cell_type": "code",
   "execution_count": 5,
   "metadata": {
    "ExecuteTime": {
     "end_time": "2020-02-23T17:11:41.113161Z",
     "start_time": "2020-02-23T17:11:41.105183Z"
    }
   },
   "outputs": [
    {
     "data": {
      "text/plain": [
       "[['A', 'A', 'A', 0.0],\n",
       " ['A', 'A', 'B', 0.5],\n",
       " ['A', 'A', 'C', 0.5],\n",
       " ['A', 'B', 'A', 0.0],\n",
       " ['A', 'B', 'B', 0.0],\n",
       " ['A', 'B', 'C', 1.0],\n",
       " ['A', 'C', 'A', 0.0],\n",
       " ['A', 'C', 'B', 1.0],\n",
       " ['A', 'C', 'C', 0.0],\n",
       " ['B', 'A', 'A', 0.0],\n",
       " ['B', 'A', 'B', 0.0],\n",
       " ['B', 'A', 'C', 1.0],\n",
       " ['B', 'B', 'A', 0.5],\n",
       " ['B', 'B', 'B', 0.0],\n",
       " ['B', 'B', 'C', 0.5],\n",
       " ['B', 'C', 'A', 1.0],\n",
       " ['B', 'C', 'B', 0.0],\n",
       " ['B', 'C', 'C', 0.0],\n",
       " ['C', 'A', 'A', 0.0],\n",
       " ['C', 'A', 'B', 1.0],\n",
       " ['C', 'A', 'C', 0.0],\n",
       " ['C', 'B', 'A', 1.0],\n",
       " ['C', 'B', 'B', 0.0],\n",
       " ['C', 'B', 'C', 0.0],\n",
       " ['C', 'C', 'A', 0.5],\n",
       " ['C', 'C', 'B', 0.5],\n",
       " ['C', 'C', 'C', 0.0]]"
      ]
     },
     "execution_count": 5,
     "metadata": {},
     "output_type": "execute_result"
    }
   ],
   "source": [
    "doors = ['A', 'B', 'C']\n",
    "m_count = []\n",
    "for g in doors:\n",
    "    for p in doors:\n",
    "        t_count = 0\n",
    "        # Loop through and count total possible outcomes for P(monty | guest, prize)\n",
    "        for m in doors:\n",
    "            if m != g and m != p:\n",
    "                # Monty can remove a door not picked by guest and not hiding a prize\n",
    "                t_count += 1\n",
    "        # Loop through and calculate conditional probability P(monty | guest, prize)\n",
    "        for m in doors:\n",
    "            if m != g and m != p:\n",
    "                # Monty can remove a door not picked by guest and not hiding a prize\n",
    "                m_count.append([g, p, m, 1. / t_count])\n",
    "            else:\n",
    "                m_count.append([g, p, m, 0.])\n",
    "\n",
    "monty = pg.ConditionalProbabilityTable(\n",
    "    m_count, [guest, prize])\n",
    "\n",
    "m_count"
   ]
  },
  {
   "cell_type": "code",
   "execution_count": 6,
   "metadata": {
    "ExecuteTime": {
     "end_time": "2020-02-23T17:11:41.120142Z",
     "start_time": "2020-02-23T17:11:41.114158Z"
    }
   },
   "outputs": [],
   "source": [
    "# Initialize model\n",
    "model = pg.BayesianNetwork('Monty Hall Problem')\n",
    "\n",
    "# Define nodes\n",
    "s1 = pg.Node(guest, name='guest')\n",
    "s2 = pg.Node(prize, name='prize')\n",
    "s3 = pg.Node(monty, name='monty')\n",
    "\n",
    "# Add edges\n",
    "model.add_states(s1, s2, s3)\n",
    "model.add_edge(s1, s3)\n",
    "model.add_edge(s2, s3)\n",
    "\n",
    "# Build model\n",
    "model.bake()"
   ]
  },
  {
   "cell_type": "markdown",
   "metadata": {},
   "source": [
    "#### Marginal Probabilties\n",
    "We can evaluate the marginal probability of Monty's choice given the guest and prize variables First, let's verify we have a proper prior marginal for Monty's choice computed from our conditional probability table:"
   ]
  },
  {
   "cell_type": "code",
   "execution_count": 7,
   "metadata": {
    "ExecuteTime": {
     "end_time": "2020-02-23T17:11:41.127124Z",
     "start_time": "2020-02-23T17:11:41.122138Z"
    }
   },
   "outputs": [
    {
     "data": {
      "text/plain": [
       "[{'C': 0.3333333333333333, 'A': 0.3333333333333333, 'B': 0.3333333333333333}]"
      ]
     },
     "execution_count": 7,
     "metadata": {},
     "output_type": "execute_result"
    }
   ],
   "source": [
    "model.marginal()[2].parameters"
   ]
  },
  {
   "cell_type": "markdown",
   "metadata": {},
   "source": [
    "Which is correct!\n",
    "\n",
    "Now, show the marginal probability of specific outcomes:"
   ]
  },
  {
   "cell_type": "code",
   "execution_count": 8,
   "metadata": {
    "ExecuteTime": {
     "end_time": "2020-02-23T17:11:41.136100Z",
     "start_time": "2020-02-23T17:11:41.128121Z"
    }
   },
   "outputs": [
    {
     "name": "stdout",
     "output_type": "stream",
     "text": [
      "Passing a single outcome:\n"
     ]
    },
    {
     "data": {
      "text/plain": [
       "0.05555555555555554"
      ]
     },
     "metadata": {},
     "output_type": "display_data"
    },
    {
     "name": "stdout",
     "output_type": "stream",
     "text": [
      "\n",
      "Passing multiple outcomes:\n",
      "\n",
      "[[0.05555556]\n",
      " [0.05555556]\n",
      " [0.05555556]\n",
      " [0.05555556]]\n"
     ]
    }
   ],
   "source": [
    "# a bug in the current version requires (0.12.0) conversion to numpy array\n",
    "print('Passing a single outcome:')\n",
    "display(model.probability(np.atleast_2d(['A', 'A', 'B'])))\n",
    "\n",
    "print('\\nPassing multiple outcomes:\\n')\n",
    "print(model.probability(np.array([\n",
    "    ['A', 'A', 'B'],\n",
    "    ['A', 'A', 'B'],\n",
    "    ['A', 'A', 'C'],\n",
    "    ['C', 'C', 'B'],\n",
    "])).reshape(-1, 1))"
   ]
  },
  {
   "cell_type": "markdown",
   "metadata": {},
   "source": [
    "#### Prediction\n",
    "We're more interested in the prediction given a missing variable, however. Here we can make a prediction for the door Monty will pick given a door chosen by the guest, and the door hiding the prize."
   ]
  },
  {
   "cell_type": "code",
   "execution_count": 9,
   "metadata": {
    "ExecuteTime": {
     "end_time": "2020-02-23T17:11:41.145076Z",
     "start_time": "2020-02-23T17:11:41.137097Z"
    }
   },
   "outputs": [
    {
     "data": {
      "text/plain": [
       "[array(['A', 'B', 'C'], dtype=object),\n",
       " array(['A', 'C', 'B'], dtype=object),\n",
       " array(['B', 'A', 'C'], dtype=object),\n",
       " array(['B', 'C', 'A'], dtype=object),\n",
       " array(['C', 'A', 'B'], dtype=object),\n",
       " array(['C', 'B', 'A'], dtype=object)]"
      ]
     },
     "metadata": {},
     "output_type": "display_data"
    }
   ],
   "source": [
    "display(model.predict([\n",
    "    ['A', 'B', None],\n",
    "    ['A', 'C', None],\n",
    "    ['B', 'A', None],\n",
    "    ['B', 'C', None],\n",
    "    ['C', 'A', None],\n",
    "    ['C', 'B', None]\n",
    "]))"
   ]
  },
  {
   "cell_type": "markdown",
   "metadata": {},
   "source": [
    "#### Should we switch doors?\n",
    "\n",
    "In the case of the Monty Hall problem, we want to predict the door containing the prize *given* our first choice, and Monty's choice, as we do not know which door is hiding the prize. This is the Bayesian problem, where we desired to ***invert*** our graph:"
   ]
  },
  {
   "cell_type": "code",
   "execution_count": 10,
   "metadata": {
    "ExecuteTime": {
     "end_time": "2020-02-23T17:11:41.153055Z",
     "start_time": "2020-02-23T17:11:41.146074Z"
    }
   },
   "outputs": [
    {
     "data": {
      "text/plain": [
       "[array(['A', 'C', 'B'], dtype=object),\n",
       " array(['A', 'B', 'C'], dtype=object),\n",
       " array(['B', 'C', 'A'], dtype=object),\n",
       " array(['B', 'A', 'C'], dtype=object),\n",
       " array(['C', 'B', 'A'], dtype=object),\n",
       " array(['C', 'A', 'B'], dtype=object)]"
      ]
     },
     "metadata": {},
     "output_type": "display_data"
    }
   ],
   "source": [
    "display(model.predict([\n",
    "    ['A', None, 'B'],\n",
    "    ['A', None, 'C'],\n",
    "    ['B', None, 'A'],\n",
    "    ['B', None, 'C'],\n",
    "    ['C', None, 'A'],\n",
    "    ['C', None, 'B']\n",
    "]))"
   ]
  },
  {
   "cell_type": "markdown",
   "metadata": {},
   "source": [
    "The interpretation of the predictions is that it is *always* better to switch the door once Monty makes his choice! We can also look at the probabilities of each value as opposed to just the prediction. This is known as ***marginalization***, in which we \"marginalize out\" the observed variables. Mathematically, we sum (or integrate) the outcomes from our conditional probability table for the unobserved variables *over* the subset of outcomes which match the observed variables."
   ]
  },
  {
   "cell_type": "code",
   "execution_count": 11,
   "metadata": {
    "ExecuteTime": {
     "end_time": "2020-02-23T17:11:41.162030Z",
     "start_time": "2020-02-23T17:11:41.154052Z"
    }
   },
   "outputs": [
    {
     "name": "stdout",
     "output_type": "stream",
     "text": [
      "Show Probabilities for each door:\n"
     ]
    },
    {
     "data": {
      "text/plain": [
       "[{'A': 0.3333333333333334, 'B': 0.0, 'C': 0.6666666666666664}]"
      ]
     },
     "metadata": {},
     "output_type": "display_data"
    },
    {
     "name": "stdout",
     "output_type": "stream",
     "text": [
      "\n",
      " Where the maximum likelihood matches the prediction:\n"
     ]
    },
    {
     "data": {
      "text/plain": [
       "'C'"
      ]
     },
     "metadata": {},
     "output_type": "display_data"
    }
   ],
   "source": [
    "print('Show Probabilities for each door:')\n",
    "display(model.predict_proba({'guest':'A', 'monty':'B'})[1].parameters)\n",
    "\n",
    "print('\\n Where the maximum likelihood matches the prediction:')\n",
    "display(model.predict([['A', None, 'B']])[0][1])"
   ]
  },
  {
   "cell_type": "markdown",
   "metadata": {},
   "source": [
    "### Example Game\n",
    "\n",
    "Let's show an example of the game. The Guest chooses door 1, while door 2 has the prize. We know that:\n",
    "- There is a 33.3% chance the prize is behind the door chosen.\n",
    "- There is a 66.6% chance the prize is behind a door not chosen."
   ]
  },
  {
   "cell_type": "code",
   "execution_count": 12,
   "metadata": {
    "ExecuteTime": {
     "end_time": "2020-02-23T17:11:42.052173Z",
     "start_time": "2020-02-23T17:11:41.163028Z"
    },
    "scrolled": false
   },
   "outputs": [
    {
     "data": {
      "image/png": "[encoded data removed]",
      "text/plain": [
       "<Figure size 351.496x136.063 with 1 Axes>"
      ]
     },
     "metadata": {},
     "output_type": "display_data"
    }
   ],
   "source": [
    "pgm = daft.PGM()\n",
    "pgm.add_node('d1', 'door 1', 1, 1, scale); pgm.add_node('d2', 'door 2', 3, 1, scale); pgm.add_node('d3', 'door 3', 5, 1, scale)\n",
    "pgm.add_plate([0, 0, 1.9, 2], label='Guest', shift=-0.2, label_offset=[22.5, 5], rect_params={'lw':2, 'ec':'b'})\n",
    "pgm.add_plate([2.1, 0, 3.9, 2], label='Monty', shift=-0.2, label_offset=[22.5*2+25, 5], rect_params={'lw':2, 'ec':'g'})\n",
    "pgm.add_plate([2.1, 0, 3.9, 2], label=r'\\it prize', shift=-0.2, label_offset=[32.5, 40], fontsize=18, rect_params={'ec':None})\n",
    "pgm.add_plate([0, 0, 1.9, 2], label='33.3\\%', shift=-0.2, label_offset=[40, 95], fontsize=14, rect_params={'ec':None})\n",
    "pgm.add_plate([0, 0, 1.9, 2], label='33.3\\%', shift=-0.2, label_offset=[70, 112], fontsize=14, rect_params={'ec':None})\n",
    "pgm.add_plate([2.1, 0, 3.9, 2], label='33.3\\%', shift=-0.2, label_offset=[35, 95], fontsize=14, rect_params={'ec':None})\n",
    "pgm.add_plate([2.1, 0, 3.9, 2], label='33.3\\%', shift=-0.2, label_offset=[150, 95], fontsize=14, rect_params={'ec':None})\n",
    "pgm.add_plate([2.1, 0, 3.9, 2], label='66.6\\%', shift=-0.2, label_offset=[180, 112], fontsize=14, rect_params={'ec':None})\n",
    "pgm.show()"
   ]
  },
  {
   "cell_type": "markdown",
   "metadata": {},
   "source": [
    "Based upon the rules of the game, Monty **must** choose door 3 and reveal no prize behind it. \n",
    "\n",
    "- There is still a 33.3% chance the prize is behind the door chosen.\n",
    "- There is still a 66.6% chance the prize is behind a door not chosen.\n",
    "\n",
    "However, because Monty's choice is not random&mdash; he cannot choose the door with a prize behind it&mdash; we can exploit our knowledge and conclude that door 2 must inherit the probability from door 3."
   ]
  },
  {
   "cell_type": "code",
   "execution_count": 13,
   "metadata": {
    "ExecuteTime": {
     "end_time": "2020-02-23T17:11:42.136946Z",
     "start_time": "2020-02-23T17:11:42.053170Z"
    },
    "scrolled": false
   },
   "outputs": [
    {
     "data": {
      "image/png": "[encoded data removed]",
      "text/plain": [
       "<Figure size 351.496x136.063 with 1 Axes>"
      ]
     },
     "metadata": {},
     "output_type": "display_data"
    }
   ],
   "source": [
    "pgm = daft.PGM()\n",
    "pgm.add_node('d1', 'door 1', 1, 1, scale); pgm.add_node('d2', r'door 2', 3, 1, scale); pgm.add_node('d3', 'door 3', 5, 1, scale, plot_params={'fc':'grey'})\n",
    "pgm.add_plate([0, 0, 1.9, 2], label='Guest', shift=-0.2, label_offset=[22.5, 5], rect_params={'lw':2, 'ec':'b'})\n",
    "pgm.add_plate([2.1, 0, 3.9, 2], label='Monty', shift=-0.2, label_offset=[22.5*2+25, 5], rect_params={'lw':2, 'ec':'g'})\n",
    "pgm.add_plate([2.1, 0, 3.9, 2], label=r'\\it prize', shift=-0.2, label_offset=[32.5, 40], fontsize=18, rect_params={'ec':None})\n",
    "pgm.add_plate([0, 0, 1.9, 2], label='33.3\\%', shift=-0.2, label_offset=[40, 95], fontsize=14, rect_params={'ec':None})\n",
    "pgm.add_plate([0, 0, 1.9, 2], label='33.3\\%', shift=-0.2, label_offset=[70, 112], fontsize=14, rect_params={'ec':None})\n",
    "pgm.add_plate([2.1, 0, 3.9, 2], label='66.6\\%', shift=-0.2, label_offset=[35, 95], fontsize=14, rect_params={'ec':None})\n",
    "pgm.add_plate([2.1, 0, 3.9, 2], label='0\\%', shift=-0.2, label_offset=[150, 95], fontsize=14, rect_params={'ec':None})\n",
    "pgm.add_plate([2.1, 0, 3.9, 2], label='66.6\\%', shift=-0.2, label_offset=[180, 112], fontsize=14, rect_params={'ec':None})\n",
    "pgm.show()"
   ]
  },
  {
   "cell_type": "markdown",
   "metadata": {},
   "source": [
    "And to use our Bayesian Network: "
   ]
  },
  {
   "cell_type": "code",
   "execution_count": 14,
   "metadata": {
    "ExecuteTime": {
     "end_time": "2020-02-23T17:11:42.141933Z",
     "start_time": "2020-02-23T17:11:42.137944Z"
    }
   },
   "outputs": [
    {
     "data": {
      "text/plain": [
       "[{'A': 0.3333333333333334, 'B': 0.6666666666666664, 'C': 0.0}]"
      ]
     },
     "metadata": {},
     "output_type": "display_data"
    }
   ],
   "source": [
    "display(model.predict_proba({'guest': 'A', 'monty':'C'})[1].parameters)"
   ]
  },
  {
   "cell_type": "markdown",
   "metadata": {},
   "source": [
    "We can easily compute the posterior probability, and use the maximum likelihood to make a prediction.\n",
    "\n",
    "Bayesian Networks allow us to encode known rules, logic, and relations into a system, and provides us with a prediction that incorporates all available information!"
   ]
  },
  {
   "cell_type": "markdown",
   "metadata": {},
   "source": [
    "## Bayesian Belief Network\n",
    "\n",
    "What is a Bayesian Belief Network? It's the same thing as a Bayesian Network, actually. It's just a more formal name. But, for our purposes, let's imagine that the difference exists as one *semantics*, viz. a Bayesian Belief Network accounts for a node that encodes how much we should trust or believe a second node. Mathematically, this is no different, but the idea is very powerful.\n",
    "\n",
    "Bayesian Belief Networks are applied to real-time classification systems such as the state of a drilling rig. They require no training, only exact enumeration of possible states, and the observed combination of those states. I've already showed how one might generate the list of all possible states from a given set of inputs. While these do become quite long lists due to the properties of combinatorics, constructing this is very straight forward and can be generalized programmatically.\n",
    "\n",
    "Let's extend our Monty Hall problem to include the ability for the show's audience to give a guess. We'll make up a number for the accuracy of the audience's guess... let's say 75% of the time, they pick the **wrong** door.\n",
    "\n",
    "*(Breaking the fourth wall: Why make this arbitrary choice? Because we'll see, just because we expect them to be wrong, doesn't mean we should not listen to them! The crowd isn't the only source of information, and that makes all the difference.)*\n",
    "\n",
    "We need to extend our table of possible states to account for this fourth state. But hold on... should our person ask the crowd, or even trust their answer? In a real game show, the contestant may choose to ask or trust the crowd, or not. How do we encode this information?\n",
    "\n",
    "Let's simplify and say that, if our contestant asks the crowd, they would listen to the crowd, and always pick the crowd's answer. Otherwise, the state of our game would not change... if the crowd is not asked, then the information is not considered. But, the crowd has a guess no matter whether the contestant asks them or not. How do we both know the crowd's guess, but only conditionally listen to it? (Hint: the key word here is *conditionally*)\n",
    "\n",
    "We need to answer two questions:\n",
    "\n",
    "1. What is the crowd's guess. This is dependent upon the result of where the prize is.\n",
    "2. Should the contestant ask the crowd?\n",
    "\n",
    "While it may seem like we need to construct a complex state machine to handle two entirely different models: one in which we listen to the crowd and include their information/guess, and one in which we do not. In actuality, we do not need to worry about state at all! Remember that we describe outcomes that occur only **conditionally** given other outcomes. Meaning, we can just reason about what the crowd's guess would be indepedent of the contestant's guess!\n",
    "\n",
    "First, let's visualize this network."
   ]
  },
  {
   "cell_type": "code",
   "execution_count": 15,
   "metadata": {
    "ExecuteTime": {
     "end_time": "2020-02-23T17:11:42.212743Z",
     "start_time": "2020-02-23T17:11:42.142930Z"
    },
    "scrolled": false
   },
   "outputs": [
    {
     "data": {
      "image/png": "[encoded data removed]",
      "text/plain": [
       "<Figure size 323.15x209.764 with 1 Axes>"
      ]
     },
     "metadata": {},
     "output_type": "display_data"
    }
   ],
   "source": [
    "import daft\n",
    "import matplotlib as mpl\n",
    "from matplotlib import pyplot as plt\n",
    "mpl.rcParams['font.family'] = 'serif'\n",
    "mpl.rcParams['font.size'] = 28\n",
    "mpl.rcParams['text.usetex'] = True\n",
    "\n",
    "scale = 3\n",
    "# Instantiate the PGM.\n",
    "pgm = daft.PGM()\n",
    "\n",
    "# Hierarchical parameters.\n",
    "pgm.add_node('s1', 'guest', 1, 0, scale)\n",
    "pgm.add_node('s2', 'prize', 3, 0, scale)\n",
    "pgm.add_node('s3', 'monty', 2, -2, scale)\n",
    "pgm.add_node('s4', 'crowd', 4, -2, scale)\n",
    "pgm.add_node('s5', 'ask', 5, 0, scale)\n",
    "\n",
    "# Add in the edges.\n",
    "arrow={'head_width':.4, 'head_length':.5}\n",
    "pgm.add_edge('s1', 's3', plot_params=arrow)\n",
    "pgm.add_edge('s2', 's3', plot_params=arrow)\n",
    "pgm.add_edge('s4', 's5', plot_params=arrow)\n",
    "pgm.add_edge('s2', 's5', plot_params=arrow)\n",
    "pgm.add_edge('s2', 's4', plot_params=arrow)\n",
    "\n",
    "# Render.\n",
    "pgm.show()"
   ]
  },
  {
   "cell_type": "markdown",
   "metadata": {},
   "source": [
    "We've drawn the network this way to highlight the key feature of probabilistic graphical models. This feature is **conditional independence**, and it can be directly observed from the structure of the graph. Influence in a directed graph only flows in the backwards when the downstream variable is observed. This means that, the marginal distribution for the `crowd` is/must/ought to be uninformative. In fact, the `ask` node is not even needed, but we've added it for use we'll address later.\n",
    "\n",
    "If the contestant does not ask the crowd, we just treat `crowd` as unobserved, and let the math take care of itself. No need to change anything in the existing conditional probability tables at all."
   ]
  },
  {
   "cell_type": "markdown",
   "metadata": {},
   "source": [
    "Let's populate the `crowd` table. The crowd guesses wrong 75% of the time, so we need to represent that. As we saw in the first example, once an option is removed, the probability of that option isn't removed from play. So, we don't need to make this table conditional upon Monty's choice, even though the crowd may only be asked at that point. The probability of 12.5% that is assigned to the the door that is taken away will be \"inherited\" by the remaining incorrect door."
   ]
  },
  {
   "cell_type": "code",
   "execution_count": 16,
   "metadata": {
    "ExecuteTime": {
     "end_time": "2020-02-23T17:11:42.219724Z",
     "start_time": "2020-02-23T17:11:42.213741Z"
    }
   },
   "outputs": [
    {
     "data": {
      "text/plain": [
       "[['A', 'A', 0.25],\n",
       " ['A', 'B', 0.375],\n",
       " ['A', 'C', 0.375],\n",
       " ['B', 'A', 0.375],\n",
       " ['B', 'B', 0.25],\n",
       " ['B', 'C', 0.375],\n",
       " ['C', 'A', 0.375],\n",
       " ['C', 'B', 0.375],\n",
       " ['C', 'C', 0.25]]"
      ]
     },
     "execution_count": 16,
     "metadata": {},
     "output_type": "execute_result"
    }
   ],
   "source": [
    "# Crowd's guess given actual door with prize\n",
    "crowd_acc = 0.25\n",
    "\n",
    "c_count = []\n",
    "for p in doors:\n",
    "    for c in doors:\n",
    "        if c == p:\n",
    "            c_count.append([p, c, crowd_acc])\n",
    "        else:             \n",
    "            c_count.append([p, c, (1 - crowd_acc) / 2])\n",
    "\n",
    "crowd = pg.ConditionalProbabilityTable(\n",
    "    c_count, [prize])\n",
    "\n",
    "c_count"
   ]
  },
  {
   "cell_type": "markdown",
   "metadata": {},
   "source": [
    "What about that `ask` node? Well, it's useful to infer whether we should ask the crowd for their answer, given the contestant's guess and Monty's choice of which door to remove. This node will be used to tell us that. We define it just as whether the crowd guessed correctly."
   ]
  },
  {
   "cell_type": "code",
   "execution_count": 17,
   "metadata": {
    "ExecuteTime": {
     "end_time": "2020-02-23T17:11:42.227703Z",
     "start_time": "2020-02-23T17:11:42.220722Z"
    }
   },
   "outputs": [
    {
     "data": {
      "text/plain": [
       "[['A', 'A', 'Y', 1],\n",
       " ['A', 'A', 'N', 0],\n",
       " ['A', 'B', 'Y', 0],\n",
       " ['A', 'B', 'N', 1],\n",
       " ['A', 'C', 'Y', 0],\n",
       " ['A', 'C', 'N', 1],\n",
       " ['B', 'A', 'Y', 0],\n",
       " ['B', 'A', 'N', 1],\n",
       " ['B', 'B', 'Y', 1],\n",
       " ['B', 'B', 'N', 0],\n",
       " ['B', 'C', 'Y', 0],\n",
       " ['B', 'C', 'N', 1],\n",
       " ['C', 'A', 'Y', 0],\n",
       " ['C', 'A', 'N', 1],\n",
       " ['C', 'B', 'Y', 0],\n",
       " ['C', 'B', 'N', 1],\n",
       " ['C', 'C', 'Y', 1],\n",
       " ['C', 'C', 'N', 0]]"
      ]
     },
     "execution_count": 17,
     "metadata": {},
     "output_type": "execute_result"
    }
   ],
   "source": [
    "# Is the crowd right?\n",
    "a_count = []\n",
    "for p in doors:\n",
    "    for c in doors:\n",
    "        for a in ['Y', 'N']:\n",
    "            if c == p:\n",
    "                a_count.append([p, c, a, int(a == 'Y')])              \n",
    "            else:             \n",
    "                a_count.append([p, c, a, int(a == 'N')])\n",
    "\n",
    "asked = pg.ConditionalProbabilityTable(\n",
    "    a_count, [prize, crowd])\n",
    "\n",
    "a_count"
   ]
  },
  {
   "cell_type": "markdown",
   "metadata": {},
   "source": [
    "That's it! We don't need to change anything else, because nothing in the first place has any conditional dependency upon our new nodes. Which is pretty cool... we can just add on new nodes, and we only need to specify the **conditional distributions**, not manage the global state.  Bayes' Thereom takes care of the rest!"
   ]
  },
  {
   "cell_type": "code",
   "execution_count": 18,
   "metadata": {
    "ExecuteTime": {
     "end_time": "2020-02-23T17:11:42.261613Z",
     "start_time": "2020-02-23T17:11:42.228701Z"
    }
   },
   "outputs": [],
   "source": [
    "# Initialize model2\n",
    "model2 = pg.BayesianNetwork('Monty Hall Problem')\n",
    "\n",
    "# Define nodes\n",
    "s1 = pg.Node(guest, name='guest')\n",
    "s2 = pg.Node(prize, name='prize')\n",
    "s3 = pg.Node(monty, name='monty')\n",
    "s4 = pg.Node(crowd, name='crowd')\n",
    "s5 = pg.Node(asked, name='asked')\n",
    "\n",
    "# Add edges\n",
    "model2.add_states(s1, s2, s3, s4, s5)\n",
    "# model2.add_states(s1, s2, s3, s4)\n",
    "model2.add_edge(s1, s3)\n",
    "model2.add_edge(s2, s3)\n",
    "model2.add_edge(s2, s4)\n",
    "model2.add_edge(s4, s5)\n",
    "model2.add_edge(s2, s5)\n",
    "\n",
    "# Build model2\n",
    "model2.bake()"
   ]
  },
  {
   "cell_type": "markdown",
   "metadata": {},
   "source": [
    "First, let's check: do we properly recreate our original game in the base case? Let's repeat the predictions of the first game!"
   ]
  },
  {
   "cell_type": "code",
   "execution_count": 19,
   "metadata": {
    "ExecuteTime": {
     "end_time": "2020-02-23T17:11:42.269592Z",
     "start_time": "2020-02-23T17:11:42.262610Z"
    }
   },
   "outputs": [
    {
     "data": {
      "text/plain": [
       "[array(['A', 'C', 'B'], dtype=object),\n",
       " array(['A', 'B', 'C'], dtype=object),\n",
       " array(['B', 'C', 'A'], dtype=object),\n",
       " array(['B', 'A', 'C'], dtype=object),\n",
       " array(['C', 'B', 'A'], dtype=object),\n",
       " array(['C', 'A', 'B'], dtype=object)]"
      ]
     },
     "metadata": {},
     "output_type": "display_data"
    }
   ],
   "source": [
    "m1 = model.predict([\n",
    "    ['A', None, 'B'],\n",
    "    ['A', None, 'C'],\n",
    "    ['B', None, 'A'],\n",
    "    ['B', None, 'C'],\n",
    "    ['C', None, 'A'],\n",
    "    ['C', None, 'B']\n",
    "])\n",
    "display(m1)"
   ]
  },
  {
   "cell_type": "markdown",
   "metadata": {},
   "source": [
    "And our new game..."
   ]
  },
  {
   "cell_type": "code",
   "execution_count": 20,
   "metadata": {
    "ExecuteTime": {
     "end_time": "2020-02-23T17:11:42.284551Z",
     "start_time": "2020-02-23T17:11:42.270589Z"
    }
   },
   "outputs": [
    {
     "data": {
      "text/plain": [
       "[array(['A', 'C', 'B', 'B', 'N'], dtype=object),\n",
       " array(['A', 'B', 'C', 'C', 'N'], dtype=object),\n",
       " array(['B', 'C', 'A', 'A', 'N'], dtype=object),\n",
       " array(['B', 'A', 'C', 'C', 'N'], dtype=object),\n",
       " array(['C', 'B', 'A', 'A', 'N'], dtype=object),\n",
       " array(['C', 'A', 'B', 'B', 'N'], dtype=object)]"
      ]
     },
     "metadata": {},
     "output_type": "display_data"
    }
   ],
   "source": [
    "m2 = model2.predict([\n",
    "    ['A', None, 'B', None, None],\n",
    "    ['A', None, 'C', None, None],\n",
    "    ['B', None, 'A', None, None],\n",
    "    ['B', None, 'C', None, None],\n",
    "    ['C', None, 'A', None, None],\n",
    "    ['C', None, 'B', None, None]\n",
    "])\n",
    "display(m2)"
   ]
  },
  {
   "cell_type": "code",
   "execution_count": 21,
   "metadata": {
    "ExecuteTime": {
     "end_time": "2020-02-23T17:11:42.295597Z",
     "start_time": "2020-02-23T17:11:42.285548Z"
    }
   },
   "outputs": [
    {
     "data": {
      "text/html": [
       "<div>\n",
       "<style scoped>\n",
       "    .dataframe tbody tr th:only-of-type {\n",
       "        vertical-align: middle;\n",
       "    }\n",
       "\n",
       "    .dataframe tbody tr th {\n",
       "        vertical-align: top;\n",
       "    }\n",
       "\n",
       "    .dataframe thead th {\n",
       "        text-align: right;\n",
       "    }\n",
       "</style>\n",
       "<table border=\"1\" class=\"dataframe\">\n",
       "  <thead>\n",
       "    <tr style=\"text-align: right;\">\n",
       "      <th></th>\n",
       "      <th>Guess</th>\n",
       "      <th>Monty</th>\n",
       "      <th>Model 1 Prediction</th>\n",
       "      <th>Model 2 Prediction</th>\n",
       "      <th>Model 2 Crowd Prediction</th>\n",
       "    </tr>\n",
       "  </thead>\n",
       "  <tbody>\n",
       "    <tr>\n",
       "      <th>0</th>\n",
       "      <td>A</td>\n",
       "      <td>B</td>\n",
       "      <td>C</td>\n",
       "      <td>C</td>\n",
       "      <td>B</td>\n",
       "    </tr>\n",
       "    <tr>\n",
       "      <th>1</th>\n",
       "      <td>A</td>\n",
       "      <td>C</td>\n",
       "      <td>B</td>\n",
       "      <td>B</td>\n",
       "      <td>C</td>\n",
       "    </tr>\n",
       "    <tr>\n",
       "      <th>2</th>\n",
       "      <td>B</td>\n",
       "      <td>A</td>\n",
       "      <td>C</td>\n",
       "      <td>C</td>\n",
       "      <td>A</td>\n",
       "    </tr>\n",
       "    <tr>\n",
       "      <th>3</th>\n",
       "      <td>B</td>\n",
       "      <td>C</td>\n",
       "      <td>A</td>\n",
       "      <td>A</td>\n",
       "      <td>C</td>\n",
       "    </tr>\n",
       "    <tr>\n",
       "      <th>4</th>\n",
       "      <td>C</td>\n",
       "      <td>A</td>\n",
       "      <td>B</td>\n",
       "      <td>B</td>\n",
       "      <td>A</td>\n",
       "    </tr>\n",
       "    <tr>\n",
       "      <th>5</th>\n",
       "      <td>C</td>\n",
       "      <td>B</td>\n",
       "      <td>A</td>\n",
       "      <td>A</td>\n",
       "      <td>B</td>\n",
       "    </tr>\n",
       "  </tbody>\n",
       "</table>\n",
       "</div>"
      ],
      "text/plain": [
       "  Guess Monty Model 1 Prediction Model 2 Prediction Model 2 Crowd Prediction\n",
       "0     A     B                  C                  C                        B\n",
       "1     A     C                  B                  B                        C\n",
       "2     B     A                  C                  C                        A\n",
       "3     B     C                  A                  A                        C\n",
       "4     C     A                  B                  B                        A\n",
       "5     C     B                  A                  A                        B"
      ]
     },
     "execution_count": 21,
     "metadata": {},
     "output_type": "execute_result"
    }
   ],
   "source": [
    "result = [[_m1[0], _m1[2], _m1[1], _m2[1], _m2[3]] for _m1, _m2 in zip(m1, m2)]\n",
    "pd.DataFrame(result, columns=['Guess', 'Monty', 'Model 1 Prediction', 'Model 2 Prediction', 'Model 2 Crowd Prediction'])"
   ]
  },
  {
   "cell_type": "markdown",
   "metadata": {},
   "source": [
    "It's an exact match! But wow, the crowd is bad at this game.\n",
    "\n",
    "However, this only tells us what we _**expect**_ the crowd to guess given knowledge that they are in fact bad at the game. What about when they actually guess? Should we trust them or not? We know they are likely to guess incorrectly, but is that equivalent to **_never_** trusting them?"
   ]
  },
  {
   "cell_type": "code",
   "execution_count": 22,
   "metadata": {
    "ExecuteTime": {
     "end_time": "2020-02-23T17:11:42.307597Z",
     "start_time": "2020-02-23T17:11:42.297598Z"
    }
   },
   "outputs": [
    {
     "data": {
      "text/plain": [
       "[array(['A', 'C', 'B', 'A', 'N'], dtype=object),\n",
       " array(['A', 'C', 'B', 'C', 'Y'], dtype=object),\n",
       " array(['A', 'B', 'C', 'A', 'N'], dtype=object),\n",
       " array(['A', 'B', 'C', 'B', 'Y'], dtype=object)]"
      ]
     },
     "execution_count": 22,
     "metadata": {},
     "output_type": "execute_result"
    }
   ],
   "source": [
    "m3 = model2.predict([\n",
    "    ['A', None, 'B', 'A', None],\n",
    "    ['A', None, 'B', 'C', None],\n",
    "    ['A', None, 'C', 'A', None],\n",
    "    ['A', None, 'C', 'B', None],  \n",
    "])\n",
    "m3"
   ]
  },
  {
   "cell_type": "code",
   "execution_count": 23,
   "metadata": {
    "ExecuteTime": {
     "end_time": "2020-02-23T17:11:42.317597Z",
     "start_time": "2020-02-23T17:11:42.309597Z"
    }
   },
   "outputs": [
    {
     "data": {
      "text/html": [
       "<div>\n",
       "<style scoped>\n",
       "    .dataframe tbody tr th:only-of-type {\n",
       "        vertical-align: middle;\n",
       "    }\n",
       "\n",
       "    .dataframe tbody tr th {\n",
       "        vertical-align: top;\n",
       "    }\n",
       "\n",
       "    .dataframe thead th {\n",
       "        text-align: right;\n",
       "    }\n",
       "</style>\n",
       "<table border=\"1\" class=\"dataframe\">\n",
       "  <thead>\n",
       "    <tr style=\"text-align: right;\">\n",
       "      <th></th>\n",
       "      <th>Guess</th>\n",
       "      <th>Monty</th>\n",
       "      <th>Crowd Guess</th>\n",
       "      <th>Trust Crowd</th>\n",
       "    </tr>\n",
       "  </thead>\n",
       "  <tbody>\n",
       "    <tr>\n",
       "      <th>0</th>\n",
       "      <td>A</td>\n",
       "      <td>B</td>\n",
       "      <td>A</td>\n",
       "      <td>N</td>\n",
       "    </tr>\n",
       "    <tr>\n",
       "      <th>1</th>\n",
       "      <td>A</td>\n",
       "      <td>B</td>\n",
       "      <td>C</td>\n",
       "      <td>Y</td>\n",
       "    </tr>\n",
       "    <tr>\n",
       "      <th>2</th>\n",
       "      <td>A</td>\n",
       "      <td>C</td>\n",
       "      <td>A</td>\n",
       "      <td>N</td>\n",
       "    </tr>\n",
       "    <tr>\n",
       "      <th>3</th>\n",
       "      <td>A</td>\n",
       "      <td>C</td>\n",
       "      <td>B</td>\n",
       "      <td>Y</td>\n",
       "    </tr>\n",
       "  </tbody>\n",
       "</table>\n",
       "</div>"
      ],
      "text/plain": [
       "  Guess Monty Crowd Guess Trust Crowd\n",
       "0     A     B           A           N\n",
       "1     A     B           C           Y\n",
       "2     A     C           A           N\n",
       "3     A     C           B           Y"
      ]
     },
     "execution_count": 23,
     "metadata": {},
     "output_type": "execute_result"
    }
   ],
   "source": [
    "result = [[_m3[0], _m3[2], _m3[3], _m3[4]] for _m3 in m3]\n",
    "pd.DataFrame(result, columns=['Guess', 'Monty', 'Crowd Guess', 'Trust Crowd'])"
   ]
  },
  {
   "cell_type": "markdown",
   "metadata": {},
   "source": [
    "This result should not be surprising given what we've learned about this game. While the crowd is expected to be bad at guessing, that's not equivalent to saying they _**always**_ guess wrong. We know that it's better to always switch doors from the initial guess. We also know that, by inspection of the graphical model, both the contestant's guess and Monty's pick have no influence on the crowd's guess. The question comes down to, is the crowd so bad at the game that the information we gain from their choice is more certain than the information gain from Monty's pick?\n",
    "\n",
    "Obviously not at 75% wrong. Let's do a super simple search to find the threshold."
   ]
  },
  {
   "cell_type": "code",
   "execution_count": 24,
   "metadata": {
    "ExecuteTime": {
     "end_time": "2020-02-23T17:11:42.329736Z",
     "start_time": "2020-02-23T17:11:42.317597Z"
    }
   },
   "outputs": [],
   "source": [
    "def how_bad_are_they(crowd_acc: float) -> np.ndarray:\n",
    "    # Crowd's guess given actual door with prize\n",
    "    c_count = []\n",
    "    for p in doors:\n",
    "        for c in doors:\n",
    "            if c == p:\n",
    "                c_count.append([p, c, crowd_acc])\n",
    "            else:             \n",
    "                c_count.append([p, c, (1 - crowd_acc) / 2])\n",
    "\n",
    "    crowd = pg.ConditionalProbabilityTable(\n",
    "        c_count, [prize])\n",
    "    \n",
    "    # update since we must associate to the crowd\n",
    "    a_count = []\n",
    "    for p in doors:\n",
    "        for c in doors:\n",
    "            for a in ['Y', 'N']:\n",
    "                if c == p:\n",
    "                    a_count.append([p, c, a, int(a == 'Y')])              \n",
    "                else:             \n",
    "                    a_count.append([p, c, a, int(a == 'N')])\n",
    "\n",
    "    asked = pg.ConditionalProbabilityTable(\n",
    "        a_count, [prize, crowd])    \n",
    "\n",
    "    # Initialize model\n",
    "    model = pg.BayesianNetwork('Monty Hall Problem')\n",
    "\n",
    "    # Define nodes\n",
    "    s1 = pg.Node(guest, name='guest')\n",
    "    s2 = pg.Node(prize, name='prize')\n",
    "    s3 = pg.Node(monty, name='monty')\n",
    "    s4 = pg.Node(crowd, name='crowd')\n",
    "    s5 = pg.Node(asked, name='asked')\n",
    "\n",
    "    # Add edges\n",
    "    model.add_states(s1, s2, s3, s4, s5)\n",
    "    model.add_edge(s1, s3)\n",
    "    model.add_edge(s2, s3)\n",
    "    model.add_edge(s2, s4)\n",
    "    model.add_edge(s4, s5)\n",
    "    model.add_edge(s2, s5)\n",
    "\n",
    "    # Build model\n",
    "    model.bake()\n",
    "\n",
    "    return model.predict([\n",
    "        ['A', None, 'B', 'A', None],\n",
    "        ['A', None, 'B', 'C', None],\n",
    "        ['A', None, 'C', 'A', None],\n",
    "        ['A', None, 'C', 'B', None],  \n",
    "    ])"
   ]
  },
  {
   "cell_type": "code",
   "execution_count": 25,
   "metadata": {
    "ExecuteTime": {
     "end_time": "2020-02-23T17:11:42.466607Z",
     "start_time": "2020-02-23T17:11:42.330733Z"
    }
   },
   "outputs": [
    {
     "data": {
      "text/plain": [
       "[[0.75, False],\n",
       " [0.76, False],\n",
       " [0.77, False],\n",
       " [0.78, False],\n",
       " [0.79, False],\n",
       " [0.8, True],\n",
       " [0.81, True],\n",
       " [0.82, True],\n",
       " [0.83, True],\n",
       " [0.84, True],\n",
       " [0.85, True],\n",
       " [0.86, True],\n",
       " [0.87, True],\n",
       " [0.88, True],\n",
       " [0.89, True],\n",
       " [0.9, True],\n",
       " [0.91, True],\n",
       " [0.92, True],\n",
       " [0.93, True],\n",
       " [0.94, True],\n",
       " [0.95, True],\n",
       " [0.96, True],\n",
       " [0.97, True],\n",
       " [0.98, True],\n",
       " [0.99, True]]"
      ]
     },
     "execution_count": 25,
     "metadata": {},
     "output_type": "execute_result"
    }
   ],
   "source": [
    "# use int for precision\n",
    "\n",
    "crowd_acc = np.arange(75, 100, 1, dtype=int)\n",
    "\n",
    "results = []\n",
    "for acc in crowd_acc:\n",
    "    acc /= 100\n",
    "    result = np.array(how_bad_are_they(1 - acc))\n",
    "    results.append([acc, np.all(np.equal(result[:, 4], 'N'))])\n",
    "    \n",
    "results"
   ]
  },
  {
   "cell_type": "markdown",
   "metadata": {},
   "source": [
    "It seems that, if we expect the crowd to be wrong 80% of the time (or more), we should _**never**_ trust them. Otherwise, it doesn't matter that they are quantifiably and demonstrably bad at the game!\n",
    "\n",
    "There's a lot of insight to the *process* shown here. In particular, it should be meaningful to executives and decision makers when considering uncertain information. While I won't go into diatribes discussing strategic planning and capital allocation, which I've spent about a decade of my career focusing on, I do want to summarize with a clear statement:\n",
    "\n",
    "#### Often times, the certainty of the decision we make is less meaningful than how much our assumptions must change before we would make an alternative decision.  We cannot be certain of correctness, we can only be certain that the amount by which we are wrong must be unrealistically high before we would choose an alternative.\n",
    "\n",
    "When we think about business strategy, operators are always exposed to uncertainty in commodity prices, cost escalation, project timing, etc. A robust plan is one that would not be changed even if all the factors it is based upon were to change."
   ]
  },
  {
   "cell_type": "markdown",
   "metadata": {},
   "source": [
    "In conclusion, I hope the following has been shown in this post:\n",
    "\n",
    "- Bayesian networks employ **simple rules** to encode **our knowledge** of the relationships between model variables.\n",
    "- Bayesian networks do not require any state maintenance.\n",
    "- While the systems they represent may be complex, the complexity is the result of the interactions of simple *composable* parts.\n",
    "- Bayesian methods allow integration of multiple sources of uncerainty information"
   ]
  }
 ],
 "metadata": {
  "kernelspec": {
   "display_name": "Python 3",
   "language": "python",
   "name": "python3"
  },
  "language_info": {
   "codemirror_mode": {
    "name": "ipython",
    "version": 3
   },
   "file_extension": ".py",
   "mimetype": "text/x-python",
   "name": "python",
   "nbconvert_exporter": "python",
   "pygments_lexer": "ipython3",
   "version": "3.7.4"
  },
  "varInspector": {
   "cols": {
    "lenName": 16,
    "lenType": 16,
    "lenVar": 40
   },
   "kernels_config": {
    "python": {
     "delete_cmd_postfix": "",
     "delete_cmd_prefix": "del ",
     "library": "var_list.py",
     "varRefreshCmd": "print(var_dic_list())"
    },
    "r": {
     "delete_cmd_postfix": ") ",
     "delete_cmd_prefix": "rm(",
     "library": "var_list.r",
     "varRefreshCmd": "cat(var_dic_list()) "
    }
   },
   "types_to_exclude": [
    "module",
    "function",
    "builtin_function_or_method",
    "instance",
    "_Feature"
   ],
   "window_display": false
  }
 },
 "nbformat": 4,
 "nbformat_minor": 2
}
